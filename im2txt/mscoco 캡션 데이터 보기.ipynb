{
 "cells": [
  {
   "cell_type": "code",
   "execution_count": 20,
   "metadata": {
    "collapsed": false
   },
   "outputs": [],
   "source": [
    "import json\n",
    "from pprint import pprint\n",
    "\n",
    "path = \"/home1/im2txt/data/mscoco/raw-data/annotations/captions_val2014.json\"\n",
    "\n",
    "with open(path) as data_file:\n",
    "    data = json.load(data_file)"
   ]
  },
  {
   "cell_type": "code",
   "execution_count": 2,
   "metadata": {
    "collapsed": false
   },
   "outputs": [
    {
     "name": "stdout",
     "output_type": "stream",
     "text": [
      "A black Honda motorcycle parked in front of a garage.\n"
     ]
    }
   ],
   "source": [
    "print data[\"annotations\"][1]['caption']"
   ]
  },
  {
   "cell_type": "code",
   "execution_count": 3,
   "metadata": {
    "collapsed": true
   },
   "outputs": [],
   "source": [
    "data[\"annotations\"][0]['caption'] = u\"매우 깔끔하고 잘 꾸며진 욕실이 있습니다.\""
   ]
  },
  {
   "cell_type": "code",
   "execution_count": 4,
   "metadata": {
    "collapsed": false
   },
   "outputs": [
    {
     "name": "stdout",
     "output_type": "stream",
     "text": [
      "매우 깔끔하고 잘 꾸며진 욕실이 있습니다.\n"
     ]
    }
   ],
   "source": [
    "print data[\"annotations\"][0]['caption']"
   ]
  },
  {
   "cell_type": "code",
   "execution_count": 5,
   "metadata": {
    "collapsed": true
   },
   "outputs": [],
   "source": [
    "out = \"/home1/im2txt/data/mscoco/raw-data/annotations/captions_val2014h.json\""
   ]
  },
  {
   "cell_type": "code",
   "execution_count": 92,
   "metadata": {
    "collapsed": false
   },
   "outputs": [],
   "source": [
    "with open(out,\"w\") as data_file:\n",
    "    json.dump(data, data_file)"
   ]
  },
  {
   "cell_type": "code",
   "execution_count": 16,
   "metadata": {
    "collapsed": true
   },
   "outputs": [],
   "source": [
    "with open(out) as data_file:\n",
    "    data = json.load(data_file)"
   ]
  },
  {
   "cell_type": "code",
   "execution_count": 17,
   "metadata": {
    "collapsed": false
   },
   "outputs": [
    {
     "name": "stdout",
     "output_type": "stream",
     "text": [
      "매우 깔끔하고 잘 꾸며진 욕실이 있습니다.\n"
     ]
    }
   ],
   "source": [
    "print data[\"annotations\"][0]['caption']"
   ]
  },
  {
   "cell_type": "code",
   "execution_count": 6,
   "metadata": {
    "collapsed": true
   },
   "outputs": [],
   "source": [
    "koreanAnnotaionPath = \"/home1/im2txt/data/mscoco/raw-data/annotations/caption_hangle_v2014.txt\""
   ]
  },
  {
   "cell_type": "code",
   "execution_count": 7,
   "metadata": {
    "collapsed": true
   },
   "outputs": [],
   "source": [
    "import re\n",
    "def normalize(s):\n",
    "    return re.sub(r'[^\\w\\s]','',s.lower())"
   ]
  },
  {
   "cell_type": "code",
   "execution_count": 8,
   "metadata": {
    "collapsed": false
   },
   "outputs": [],
   "source": [
    "eng2kor = {}\n",
    "with open(koreanAnnotaionPath,\"r\") as f:\n",
    "    for line in f:\n",
    "        try:\n",
    "            token = line.split(\"\\t\")\n",
    "            eng2kor[normalize(token[0])] = token[1].replace(\"\\n\",\"\").decode(\"utf8\").strip()\n",
    "        except:\n",
    "            pass"
   ]
  },
  {
   "cell_type": "code",
   "execution_count": 9,
   "metadata": {
    "collapsed": false
   },
   "outputs": [
    {
     "data": {
      "text/plain": [
       "27782"
      ]
     },
     "execution_count": 9,
     "metadata": {},
     "output_type": "execute_result"
    }
   ],
   "source": [
    "len(eng2kor)"
   ]
  },
  {
   "cell_type": "code",
   "execution_count": 10,
   "metadata": {
    "collapsed": false
   },
   "outputs": [
    {
     "data": {
      "text/plain": [
       "202654"
      ]
     },
     "execution_count": 10,
     "metadata": {},
     "output_type": "execute_result"
    }
   ],
   "source": [
    "len(data[\"annotations\"])"
   ]
  },
  {
   "cell_type": "code",
   "execution_count": 18,
   "metadata": {
    "collapsed": false
   },
   "outputs": [
    {
     "name": "stdout",
     "output_type": "stream",
     "text": [
      "2016-12-12 08:53:01\n"
     ]
    }
   ],
   "source": [
    "from time import gmtime, strftime"
   ]
  },
  {
   "cell_type": "code",
   "execution_count": null,
   "metadata": {
    "collapsed": false
   },
   "outputs": [
    {
     "name": "stdout",
     "output_type": "stream",
     "text": [
      "2016-12-12 08:53:40 1000\n",
      "2016-12-12 08:53:41 2000\n",
      "2016-12-12 08:53:41 3000\n",
      "2016-12-12 08:53:42 4000\n",
      "2016-12-12 08:53:43 5000\n",
      "2016-12-12 08:53:43 6000\n",
      "2016-12-12 08:53:43 7000\n",
      "2016-12-12 08:53:43 8000\n",
      "2016-12-12 08:53:44 9000\n",
      "2016-12-12 08:53:45 10000\n",
      "2016-12-12 08:53:45 11000\n",
      "2016-12-12 08:53:45 12000\n",
      "2016-12-12 08:53:46 13000\n",
      "2016-12-12 08:53:46 14000\n",
      "2016-12-12 08:53:46 15000\n",
      "2016-12-12 08:53:47 16000\n",
      "2016-12-12 08:53:47 17000\n",
      "2016-12-12 08:53:48 18000\n",
      "2016-12-12 08:53:48 19000\n",
      "2016-12-12 08:53:48 20000\n",
      "2016-12-12 08:53:48 21000\n",
      "2016-12-12 08:53:48 22000\n",
      "2016-12-12 08:53:49 23000\n",
      "2016-12-12 08:53:53 24000\n",
      "2016-12-12 08:53:55 25000\n",
      "2016-12-12 08:53:55 26000\n",
      "2016-12-12 08:53:56 27000\n",
      "2016-12-12 08:53:56 28000\n",
      "2016-12-12 08:56:27 29000\n",
      "2016-12-12 08:59:15 30000\n",
      "2016-12-12 09:02:03 31000\n",
      "2016-12-12 09:04:50 32000\n",
      "2016-12-12 09:07:40 33000\n",
      "2016-12-12 09:10:40 34000\n",
      "2016-12-12 09:13:35 35000\n",
      "2016-12-12 09:16:31 36000\n",
      "2016-12-12 09:19:26 37000\n",
      "2016-12-12 09:22:18 38000\n",
      "2016-12-12 09:25:19 39000\n",
      "2016-12-12 09:28:18 40000\n",
      "2016-12-12 09:31:22 41000\n",
      "2016-12-12 09:34:20 42000\n",
      "2016-12-12 09:37:19 43000\n",
      "2016-12-12 09:40:19 44000\n",
      "2016-12-12 09:43:17 45000\n",
      "2016-12-12 09:46:13 46000\n",
      "2016-12-12 09:49:07 47000\n",
      "2016-12-12 09:52:07 48000\n",
      "2016-12-12 09:55:04 49000\n",
      "2016-12-12 09:58:01 50000\n",
      "2016-12-12 10:00:50 51000\n",
      "2016-12-12 10:03:44 52000\n",
      "2016-12-12 10:06:37 53000\n",
      "2016-12-12 10:09:31 54000\n",
      "2016-12-12 10:12:17 55000\n",
      "2016-12-12 10:15:07 56000\n",
      "2016-12-12 10:17:57 57000\n",
      "2016-12-12 10:20:58 58000\n",
      "2016-12-12 10:24:03 59000\n",
      "2016-12-12 10:27:04 60000\n",
      "2016-12-12 10:30:03 61000\n",
      "2016-12-12 10:32:59 62000\n",
      "2016-12-12 10:35:53 63000\n",
      "2016-12-12 10:38:45 64000\n",
      "2016-12-12 10:41:40 65000\n",
      "2016-12-12 10:44:43 66000\n",
      "2016-12-12 10:47:47 67000\n",
      "2016-12-12 10:50:53 68000\n",
      "2016-12-12 10:54:01 69000\n",
      "2016-12-12 10:57:07 70000\n",
      "2016-12-12 11:00:10 71000\n",
      "2016-12-12 11:03:20 72000\n",
      "2016-12-12 11:06:24 73000\n",
      "2016-12-12 11:09:21 74000\n",
      "2016-12-12 11:12:22 75000\n",
      "2016-12-12 11:15:30 76000\n",
      "2016-12-12 11:18:29 77000\n",
      "2016-12-12 11:21:28 78000\n",
      "2016-12-12 11:24:30 79000\n",
      "2016-12-12 11:27:29 80000\n",
      "2016-12-12 11:30:24 81000\n",
      "2016-12-12 11:33:23 82000\n",
      "2016-12-12 11:36:20 83000\n",
      "2016-12-12 11:39:15 84000\n",
      "2016-12-12 11:42:11 85000\n",
      "2016-12-12 11:45:05 86000\n",
      "2016-12-12 11:47:58 87000\n",
      "2016-12-12 11:50:48 88000\n",
      "2016-12-12 11:53:41 89000\n",
      "2016-12-12 11:56:34 90000\n",
      "2016-12-12 11:59:27 91000\n",
      "2016-12-12 12:02:22 92000\n",
      "2016-12-12 12:05:15 93000\n"
     ]
    }
   ],
   "source": [
    "n = 0;\n",
    "from time import gmtime, strftime\n",
    "for i in range(len(data[\"annotations\"])):\n",
    "    try:\n",
    "        keyCaption = normalize(data[\"annotations\"][i]['caption'])\n",
    "        data[\"annotations\"][i]['caption'] = eng2kor[keyCaption]\n",
    "    except:\n",
    "#         print data[\"annotations\"][i]['caption'], en2krPapago(data[\"annotations\"][i]['caption'])\n",
    "        data[\"annotations\"][i]['caption'] = en2krPapago(data[\"annotations\"][i]['caption'])\n",
    "    n += 1\n",
    "    if n % 1000 == 0:\n",
    "        curTime = strftime(\"%Y-%m-%d %H:%M:%S\", gmtime())\n",
    "        print curTime, n\n",
    "print n"
   ]
  },
  {
   "cell_type": "code",
   "execution_count": 104,
   "metadata": {
    "collapsed": false
   },
   "outputs": [
    {
     "name": "stdout",
     "output_type": "stream",
     "text": [
      "A brown dog with a stick in its mouth.\n",
      "A man on a cell phone next to another in a booth.\n",
      "a toilet sitting on a tiled floor in enclosed bathroom stall\n",
      "A bird sitting on the back of a wooden chair.\n",
      "An overhead shot of a big plant out in the woods.\n",
      "Pedestrians cross at a crosswalk in a crowded city.\n",
      "An open menu and bottles of wine sit on a restaurant table.\n",
      "A person that is standing by a train.\n",
      "A selection of fresh produce and a packet of seeds.\n",
      "LED lights in artificial flowers and a vase decorate an outdoor space.\n"
     ]
    }
   ],
   "source": [
    "import random\n",
    "for i in range(0, 10):\n",
    "    idx = random.randint(1, len(data[\"annotations\"]) - 1 )\n",
    "    print data[\"annotations\"][idx]['caption']"
   ]
  },
  {
   "cell_type": "code",
   "execution_count": 38,
   "metadata": {
    "collapsed": false
   },
   "outputs": [
    {
     "data": {
      "text/plain": [
       "u'\\uc6b0\\uc0b0\\uc5d0 \\uc758\\ud574 \\ube44\\ub85c\\ubd80\\ud130 \\ubcf4\\ud638 \\ubc1b\\uc740 \\uc0ac\\ub78c\\uc740 \\uae38\\uc744 \\ub530\\ub77c \\uac77\\ub294\\ub2e4.'"
      ]
     },
     "execution_count": 38,
     "metadata": {},
     "output_type": "execute_result"
    }
   ],
   "source": [
    "u\"우산에 의해 비로부터 보호 받은 사람은 길을 따라 걷는다.\""
   ]
  },
  {
   "cell_type": "code",
   "execution_count": 12,
   "metadata": {
    "collapsed": true
   },
   "outputs": [],
   "source": [
    "def en2krPapago(en):\n",
    "    a = ! curl -d \"source=en&target=ko&text=$en\" -H x-naver-client-id:labspace http://labspace.naver.com/api/n2mt/translate | sed 's/.*[\"]translatedText[\"][:][\"]\\(.*\\)[\"].*$/\\1/g'\n",
    "    return a[-1].decode(\"utf-8\").strip()"
   ]
  },
  {
   "cell_type": "code",
   "execution_count": 13,
   "metadata": {
    "collapsed": false
   },
   "outputs": [
    {
     "name": "stdout",
     "output_type": "stream",
     "text": [
      "멋지게 보이는 야외 사진\n"
     ]
    }
   ],
   "source": [
    "print en2krPapago(\"A picture of an outdoor area that looks great.\")"
   ]
  }
 ],
 "metadata": {
  "kernelspec": {
   "display_name": "Python 2",
   "language": "python",
   "name": "python2"
  },
  "language_info": {
   "codemirror_mode": {
    "name": "ipython",
    "version": 2
   },
   "file_extension": ".py",
   "mimetype": "text/x-python",
   "name": "python",
   "nbconvert_exporter": "python",
   "pygments_lexer": "ipython2",
   "version": "2.7.6"
  }
 },
 "nbformat": 4,
 "nbformat_minor": 2
}
