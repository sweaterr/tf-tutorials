{
 "cells": [
  {
   "cell_type": "markdown",
   "metadata": {},
   "source": [
    "BRNN (Bidirectional Recurrent Neural Network) 은 왼쪽에서 오른쪽으로 문장을 처리하는 하나의 RNN과 오른쪽에서 왼쪽으로 문장을 처리하는 별도의 RNN으로 구성됩니다. 양측의 히든 벡터는 각 단어에서 표현을 생성하기 위해 연결 (또는 평균화)됩니다. 이런 방식으로, 각 단어의 표현은 그 단어 주위의 가변적인 크기의 문맥에 의해 풍성해집니다. 우리가 사용하는 BRNN의 정확한 형태는 t = 1, ..., T에 대해 다음과 같이 보입니다.\n",
    "$$\n",
    "\\begin{align}\n",
    "\t&x_t = W_w \\mathbb{I}_t \\\\\n",
    "\t&h_t^f = f(W_{fx}x_{t} + W_{f}h_{t-1}^f + b_f ) \\\\\n",
    "\t&h_t^b = f(W_{bx}x_{t} + W_{b}h_{t-1}^f + b_b ) \\\\\n",
    "\t&s_t = f(W_{d}(h_t^f + h_t^b) + b_d)\n",
    "\\end{align}\n",
    "$$\n",
    "\n",
    "BRNN은 왼쪽에서 오른쪽으로 ($h_f^t$) 이동하고 오른쪽에서 왼쪽으로 ($h_b^t$) 두 개의 독립적인 처리 스트림으로 구성됩니다. $t$ 번째 단어에 대한 최종 $h$ 차원 표현 $s_t$는 해당 위치의 단어와 문장의 주변 문맥 모두의 함수입니다. 활성화 함수 f의 일반적인 설정은 ReLU 또는 tanh입니다. s_t는 두 개의 RNN 스트림을 매개로하여 양측에서 단어 t와 해당 컨텍스트를 인코딩하는 개별 조각 벡터로 기능합니다.\n",
    "\n",
    "![](http://cdn.images.postach.io/34375d19-06e8-41ef-90b9-f7fe3fc561d2/9b4518a9-f54a-41e2-9457-85807ac98116/223da3af-d22f-4e29-858d-2f9c82ef1d89.png)\n",
    "\n",
    "* 예제의 구조\n",
    "![image](https://cloud.githubusercontent.com/assets/1518919/21098227/89a7d22a-c0ab-11e6-9d09-71da3610bd44.png)\n"
   ]
  },
  {
   "cell_type": "code",
   "execution_count": 1,
   "metadata": {
    "collapsed": false
   },
   "outputs": [
    {
     "name": "stdout",
     "output_type": "stream",
     "text": [
      "Extracting /tmp/data/train-images-idx3-ubyte.gz\n",
      "Extracting /tmp/data/train-labels-idx1-ubyte.gz\n",
      "Extracting /tmp/data/t10k-images-idx3-ubyte.gz\n",
      "Extracting /tmp/data/t10k-labels-idx1-ubyte.gz\n"
     ]
    }
   ],
   "source": [
    "import tensorflow as tf\n",
    "import numpy as np\n",
    "\n",
    "# Import MINST data\n",
    "from tensorflow.examples.tutorials.mnist import input_data\n",
    "mnist = input_data.read_data_sets(\"/tmp/data/\", one_hot=True)"
   ]
  },
  {
   "cell_type": "markdown",
   "metadata": {},
   "source": [
    "To classify images using a bidirectional reccurent neural network, we consider\n",
    "every image row as a sequence of pixels. Because MNIST image shape is 28*28px,\n",
    "we will then handle 28 sequences of 28 steps for every sample."
   ]
  },
  {
   "cell_type": "code",
   "execution_count": 2,
   "metadata": {
    "collapsed": true
   },
   "outputs": [],
   "source": [
    "# Parameters\n",
    "learning_rate = 0.001\n",
    "training_iters = 100000\n",
    "batch_size = 128\n",
    "display_step = 10\n",
    "# Network Parameters\n",
    "n_input = 28 # MNIST data input (img shape: 28*28)\n",
    "n_steps = 28 # timesteps\n",
    "n_hidden = 128 # hidden layer num of features\n",
    "n_classes = 10 # MNIST total classes (0-9 digits)\n"
   ]
  },
  {
   "cell_type": "code",
   "execution_count": 3,
   "metadata": {
    "collapsed": false
   },
   "outputs": [],
   "source": [
    "# tf Graph input\n",
    "x = tf.placeholder(\"float\", [None, n_steps, n_input])\n",
    "y = tf.placeholder(\"float\", [None, n_classes])"
   ]
  },
  {
   "cell_type": "code",
   "execution_count": 4,
   "metadata": {
    "collapsed": true
   },
   "outputs": [],
   "source": [
    "# Define weights\n",
    "# Hidden layer weights => 2*n_hidden because of foward + backward cells\n",
    "weights = tf.Variable(tf.random_normal([2*n_hidden, n_classes]))\n",
    "biases = tf.Variable(tf.random_normal([n_classes]))"
   ]
  },
  {
   "cell_type": "code",
   "execution_count": 5,
   "metadata": {
    "collapsed": false
   },
   "outputs": [],
   "source": [
    "def BiRNN(x, weights, biases):\n",
    "\n",
    "    # Prepare data shape to match `bidirectional_rnn` function requirements\n",
    "    # Current data input shape: (batch_size, n_steps, n_input)\n",
    "    # Required shape: 'n_steps' tensors list of shape (batch_size, n_input)\n",
    "\n",
    "    # Permuting batch_size and n_steps\n",
    "    x = tf.transpose(x, [1, 0, 2]) # shape=(28, ?, 28)\n",
    "    # Reshape to (n_steps*batch_size, n_input)\n",
    "    x = tf.reshape(x, [-1, n_input]) # shape=(?, 28)\n",
    "    # Split to get a list of 'n_steps' tensors of shape (batch_size, n_input)\n",
    "    x = tf.split(0, n_steps, x) # 0차원에 대해서 n_step 만큼 쪼개라. 28 steps * (batch_size, n_input)\n",
    "\n",
    "    # Define lstm cells with tensorflow\n",
    "    # Forward direction cell\n",
    "    lstm_fw_cell = tf.nn.rnn_cell.BasicLSTMCell(n_hidden, forget_bias=1.0)\n",
    "    # Backward direction cell\n",
    "    lstm_bw_cell = tf.nn.rnn_cell.BasicLSTMCell(n_hidden, forget_bias=1.0)\n",
    "\n",
    "    outputs, _, _ = tf.nn.bidirectional_rnn(lstm_fw_cell, lstm_bw_cell, x,\n",
    "                                              dtype=tf.float32)\n",
    "    return tf.matmul(outputs[-1], weights) + biases"
   ]
  },
  {
   "cell_type": "code",
   "execution_count": 6,
   "metadata": {
    "collapsed": false
   },
   "outputs": [],
   "source": [
    "pred = BiRNN(x, weights, biases)\n",
    "\n",
    "# Define loss and optimizer\n",
    "cost = tf.reduce_mean(tf.nn.softmax_cross_entropy_with_logits(pred, y))\n",
    "optimizer = tf.train.AdamOptimizer(learning_rate=learning_rate).minimize(cost)\n",
    "\n",
    "# Evaluate model\n",
    "correct_pred = tf.equal(tf.argmax(pred,1), tf.argmax(y,1))\n",
    "accuracy = tf.reduce_mean(tf.cast(correct_pred, tf.float32))\n",
    "\n",
    "# Initializing the variables\n",
    "init = tf.global_variables_initializer()"
   ]
  },
  {
   "cell_type": "code",
   "execution_count": 7,
   "metadata": {
    "collapsed": false
   },
   "outputs": [
    {
     "name": "stdout",
     "output_type": "stream",
     "text": [
      "Iter 1280, Minibatch Loss= 1.858926, Training Accuracy= 0.36719\n",
      "Iter 2560, Minibatch Loss= 1.536841, Training Accuracy= 0.47656\n",
      "Iter 3840, Minibatch Loss= 1.242447, Training Accuracy= 0.56250\n",
      "Iter 5120, Minibatch Loss= 0.914665, Training Accuracy= 0.72656\n",
      "Iter 6400, Minibatch Loss= 0.793335, Training Accuracy= 0.75000\n",
      "Iter 7680, Minibatch Loss= 1.123333, Training Accuracy= 0.61719\n",
      "Iter 8960, Minibatch Loss= 0.782696, Training Accuracy= 0.71094\n",
      "Iter 10240, Minibatch Loss= 0.585669, Training Accuracy= 0.79688\n",
      "Iter 11520, Minibatch Loss= 0.377622, Training Accuracy= 0.92188\n",
      "Iter 12800, Minibatch Loss= 0.667088, Training Accuracy= 0.79688\n",
      "Iter 14080, Minibatch Loss= 0.531336, Training Accuracy= 0.83594\n",
      "Iter 15360, Minibatch Loss= 0.365528, Training Accuracy= 0.87500\n",
      "Iter 16640, Minibatch Loss= 0.473822, Training Accuracy= 0.85938\n",
      "Iter 17920, Minibatch Loss= 0.316416, Training Accuracy= 0.89062\n",
      "Iter 19200, Minibatch Loss= 0.271850, Training Accuracy= 0.88281\n",
      "Iter 20480, Minibatch Loss= 0.146468, Training Accuracy= 0.96094\n",
      "Iter 21760, Minibatch Loss= 0.415595, Training Accuracy= 0.85156\n",
      "Iter 23040, Minibatch Loss= 0.152200, Training Accuracy= 0.95312\n",
      "Iter 24320, Minibatch Loss= 0.364466, Training Accuracy= 0.87500\n",
      "Iter 25600, Minibatch Loss= 0.399199, Training Accuracy= 0.87500\n",
      "Iter 26880, Minibatch Loss= 0.212965, Training Accuracy= 0.92188\n",
      "Iter 28160, Minibatch Loss= 0.276097, Training Accuracy= 0.89062\n",
      "Iter 29440, Minibatch Loss= 0.308561, Training Accuracy= 0.91406\n",
      "Iter 30720, Minibatch Loss= 0.348472, Training Accuracy= 0.88281\n",
      "Iter 32000, Minibatch Loss= 0.160473, Training Accuracy= 0.95312\n",
      "Iter 33280, Minibatch Loss= 0.223823, Training Accuracy= 0.93750\n",
      "Iter 34560, Minibatch Loss= 0.232012, Training Accuracy= 0.94531\n",
      "Iter 35840, Minibatch Loss= 0.189911, Training Accuracy= 0.94531\n",
      "Iter 37120, Minibatch Loss= 0.257818, Training Accuracy= 0.89062\n",
      "Iter 38400, Minibatch Loss= 0.158653, Training Accuracy= 0.91406\n",
      "Iter 39680, Minibatch Loss= 0.168873, Training Accuracy= 0.92969\n",
      "Iter 40960, Minibatch Loss= 0.285532, Training Accuracy= 0.91406\n",
      "Iter 42240, Minibatch Loss= 0.113958, Training Accuracy= 0.96875\n",
      "Iter 43520, Minibatch Loss= 0.205570, Training Accuracy= 0.92969\n",
      "Iter 44800, Minibatch Loss= 0.184982, Training Accuracy= 0.93750\n",
      "Iter 46080, Minibatch Loss= 0.090343, Training Accuracy= 0.96875\n",
      "Iter 47360, Minibatch Loss= 0.261678, Training Accuracy= 0.92188\n",
      "Iter 48640, Minibatch Loss= 0.242846, Training Accuracy= 0.91406\n",
      "Iter 49920, Minibatch Loss= 0.230480, Training Accuracy= 0.89062\n",
      "Iter 51200, Minibatch Loss= 0.109428, Training Accuracy= 0.95312\n",
      "Iter 52480, Minibatch Loss= 0.151610, Training Accuracy= 0.95312\n",
      "Iter 53760, Minibatch Loss= 0.095553, Training Accuracy= 0.96875\n",
      "Iter 55040, Minibatch Loss= 0.108208, Training Accuracy= 0.96094\n",
      "Iter 56320, Minibatch Loss= 0.111485, Training Accuracy= 0.96875\n",
      "Iter 57600, Minibatch Loss= 0.092907, Training Accuracy= 0.96875\n",
      "Iter 58880, Minibatch Loss= 0.114576, Training Accuracy= 0.96094\n",
      "Iter 60160, Minibatch Loss= 0.174244, Training Accuracy= 0.92188\n",
      "Iter 61440, Minibatch Loss= 0.091095, Training Accuracy= 0.97656\n",
      "Iter 62720, Minibatch Loss= 0.129294, Training Accuracy= 0.96875\n",
      "Iter 64000, Minibatch Loss= 0.126874, Training Accuracy= 0.96094\n",
      "Iter 65280, Minibatch Loss= 0.120218, Training Accuracy= 0.97656\n",
      "Iter 66560, Minibatch Loss= 0.102711, Training Accuracy= 0.96875\n",
      "Iter 67840, Minibatch Loss= 0.173068, Training Accuracy= 0.93750\n",
      "Iter 69120, Minibatch Loss= 0.301472, Training Accuracy= 0.92969\n",
      "Iter 70400, Minibatch Loss= 0.075417, Training Accuracy= 0.97656\n",
      "Iter 71680, Minibatch Loss= 0.136190, Training Accuracy= 0.93750\n",
      "Iter 72960, Minibatch Loss= 0.195979, Training Accuracy= 0.93750\n",
      "Iter 74240, Minibatch Loss= 0.163930, Training Accuracy= 0.95312\n",
      "Iter 75520, Minibatch Loss= 0.088616, Training Accuracy= 0.96875\n",
      "Iter 76800, Minibatch Loss= 0.078525, Training Accuracy= 0.97656\n",
      "Iter 78080, Minibatch Loss= 0.122308, Training Accuracy= 0.96094\n",
      "Iter 79360, Minibatch Loss= 0.061598, Training Accuracy= 0.97656\n",
      "Iter 80640, Minibatch Loss= 0.077393, Training Accuracy= 0.96875\n",
      "Iter 81920, Minibatch Loss= 0.129316, Training Accuracy= 0.96094\n",
      "Iter 83200, Minibatch Loss= 0.125339, Training Accuracy= 0.93750\n",
      "Iter 84480, Minibatch Loss= 0.068055, Training Accuracy= 0.97656\n",
      "Iter 85760, Minibatch Loss= 0.061383, Training Accuracy= 0.97656\n",
      "Iter 87040, Minibatch Loss= 0.077228, Training Accuracy= 0.96094\n",
      "Iter 88320, Minibatch Loss= 0.078256, Training Accuracy= 0.98438\n",
      "Iter 89600, Minibatch Loss= 0.089427, Training Accuracy= 0.96875\n",
      "Iter 90880, Minibatch Loss= 0.166929, Training Accuracy= 0.96094\n",
      "Iter 92160, Minibatch Loss= 0.128740, Training Accuracy= 0.96094\n",
      "Iter 93440, Minibatch Loss= 0.040336, Training Accuracy= 0.99219\n",
      "Iter 94720, Minibatch Loss= 0.115808, Training Accuracy= 0.96094\n",
      "Iter 96000, Minibatch Loss= 0.126379, Training Accuracy= 0.96094\n",
      "Iter 97280, Minibatch Loss= 0.058360, Training Accuracy= 0.99219\n",
      "Iter 98560, Minibatch Loss= 0.082560, Training Accuracy= 0.97656\n",
      "Iter 99840, Minibatch Loss= 0.190569, Training Accuracy= 0.93750\n",
      "Optimization Finished!\n",
      "('Testing Accuracy:', 1.0)\n"
     ]
    }
   ],
   "source": [
    "# Launch the graph\n",
    "with tf.Session() as sess:\n",
    "    sess.run(init)\n",
    "    step = 1\n",
    "    # Keep training until reach max iterations\n",
    "    while step * batch_size < training_iters:\n",
    "        batch_x, batch_y = mnist.train.next_batch(batch_size)\n",
    "        # Reshape data to get 28 seq of 28 elements\n",
    "        batch_x = batch_x.reshape((batch_size, n_steps, n_input))\n",
    "        # Run optimization op (backprop)\n",
    "        sess.run(optimizer, feed_dict={x: batch_x, y: batch_y})\n",
    "        if step % display_step == 0:\n",
    "            # Calculate batch accuracy\n",
    "            acc = sess.run(accuracy, feed_dict={x: batch_x, y: batch_y})\n",
    "            # Calculate batch loss\n",
    "            loss = sess.run(cost, feed_dict={x: batch_x, y: batch_y})\n",
    "            print(\"Iter \" + str(step*batch_size) + \", Minibatch Loss= \" + \\\n",
    "                  \"{:.6f}\".format(loss) + \", Training Accuracy= \" + \\\n",
    "                  \"{:.5f}\".format(acc))\n",
    "        step += 1\n",
    "    print(\"Optimization Finished!\")\n",
    "\n",
    "    # Calculate accuracy for 128 mnist test images\n",
    "    test_len = 128\n",
    "    test_data = mnist.test.images[:test_len].reshape((-1, n_steps, n_input))\n",
    "    test_label = mnist.test.labels[:test_len]\n",
    "    print(\"Testing Accuracy:\", \\\n",
    "        sess.run(accuracy, feed_dict={x: test_data, y: test_label}))"
   ]
  },
  {
   "cell_type": "code",
   "execution_count": null,
   "metadata": {
    "collapsed": true
   },
   "outputs": [],
   "source": []
  }
 ],
 "metadata": {
  "kernelspec": {
   "display_name": "Python 2",
   "language": "python",
   "name": "python2"
  },
  "language_info": {
   "codemirror_mode": {
    "name": "ipython",
    "version": 2
   },
   "file_extension": ".py",
   "mimetype": "text/x-python",
   "name": "python",
   "nbconvert_exporter": "python",
   "pygments_lexer": "ipython2",
   "version": "2.7.6"
  }
 },
 "nbformat": 4,
 "nbformat_minor": 2
}
